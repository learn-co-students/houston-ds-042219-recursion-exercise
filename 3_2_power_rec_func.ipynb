{
 "cells": [
  {
   "cell_type": "markdown",
   "metadata": {},
   "source": [
    "# Week 3, 3.2 recurssive functions"
   ]
  },
  {
   "cell_type": "code",
   "execution_count": null,
   "metadata": {},
   "outputs": [],
   "source": [
    "# 1. construct a recurssive function to calculate powers of 3 (e.g. 3^4 = 81)"
   ]
  },
  {
   "cell_type": "code",
   "execution_count": null,
   "metadata": {},
   "outputs": [],
   "source": [
    "def power_3_rec(power):\n",
    "    result = 0 \n",
    "    if (power == 0):\n",
    "        return 1 \n",
    "        \n",
    "    return(3 * power_3_rec(power - 1))"
   ]
  },
  {
   "cell_type": "code",
   "execution_count": null,
   "metadata": {},
   "outputs": [],
   "source": [
    "# 2 [optional] . create a recurssive function - the egg dropping problem [very hard!!] - no need to finish just start a skeleton\n",
    "# problem : Suppose that we wish to know which stories in a 36-story building are safe to drop eggs from, \n",
    "# and which will cause the eggs to break on landing. We make a few assumptions:\n",
    "#…..An egg that survives a fall can be used again.\n",
    "#…..A broken egg must be discarded.\n",
    "#…..The effect of a fall is the same for all eggs.\n",
    "#…..If an egg breaks when dropped, then it would break if dropped from a higher floor.\n",
    "#…..If an egg survives a fall then it would survive a shorter fall."
   ]
  },
  {
   "cell_type": "code",
   "execution_count": null,
   "metadata": {},
   "outputs": [],
   "source": [
    "def calculateRecursive(eggs, floors):\n",
    "        if(eggs == 1):\n",
    "            return floors\n",
    "        if(floors == 0):\n",
    "            return 0\n",
    "        mini = 1000\n",
    "        for i in range(1, floors + 1, 1):\n",
    "            val = 1 + max(calculateRecursive(eggs - 1, i-1),calculateRecursive(eggs, floors - i))\n",
    "            if(val < mini):\n",
    "                mini = val\n",
    "        return mini"
   ]
  }
 ],
 "metadata": {
  "kernelspec": {
   "display_name": "Python 3",
   "language": "python",
   "name": "python3"
  },
  "language_info": {
   "codemirror_mode": {
    "name": "ipython",
    "version": 2
   },
   "file_extension": ".py",
   "mimetype": "text/x-python",
   "name": "python",
   "nbconvert_exporter": "python",
   "pygments_lexer": "ipython2",
   "version": "2.7.16"
  }
 },
 "nbformat": 4,
 "nbformat_minor": 2
}
