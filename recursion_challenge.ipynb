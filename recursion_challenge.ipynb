{
 "cells": [
  {
   "cell_type": "markdown",
   "metadata": {},
   "source": [
    "# Coding Challenge: Recursion\n",
    "\n",
    "1) construct a recurssive function to calculate powers of 3\n",
    "e.g. 3^4 = 81\n",
    "\n",
    "\n"
   ]
  },
  {
   "cell_type": "code",
   "execution_count": null,
   "metadata": {},
   "outputs": [],
   "source": [
    "def power_3_rec(power):"
   ]
  },
  {
   "cell_type": "markdown",
   "metadata": {},
   "source": [
    "2) [optional] create a recurssive function - the egg dropping problem [very hard!!] - no need to finish just start a skeleton\n",
    "\n",
    "### Problem : Suppose that we wish to know which stories in a 36-story building are safe to drop eggs from, and which will cause the eggs to break on landing. \n",
    "\n",
    "We make a few assumptions:\n",
    "- An egg that survives a fall can be used again.\n",
    "- A broken egg must be discarded.\n",
    "- The effect of a fall is the same for all eggs.\n",
    "- If an egg breaks when dropped, then it would break if dropped from a higher floor.\n",
    "- If an egg survives a fall then it would survive a shorter fall."
   ]
  },
  {
   "cell_type": "code",
   "execution_count": null,
   "metadata": {},
   "outputs": [],
   "source": []
  },
  {
   "cell_type": "code",
   "execution_count": null,
   "metadata": {},
   "outputs": [],
   "source": []
  }
 ],
 "metadata": {
  "kernelspec": {
   "display_name": "Python 3",
   "language": "python",
   "name": "python3"
  },
  "language_info": {
   "codemirror_mode": {
    "name": "ipython",
    "version": 3
   },
   "file_extension": ".py",
   "mimetype": "text/x-python",
   "name": "python",
   "nbconvert_exporter": "python",
   "pygments_lexer": "ipython3",
   "version": "3.7.1"
  }
 },
 "nbformat": 4,
 "nbformat_minor": 2
}
